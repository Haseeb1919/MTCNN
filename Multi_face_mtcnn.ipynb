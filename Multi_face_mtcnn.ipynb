{
 "cells": [
  {
   "cell_type": "code",
   "execution_count": 1,
   "metadata": {},
   "outputs": [],
   "source": [
    "from mtcnn import MTCNN\n",
    "import cv2"
   ]
  },
  {
   "cell_type": "code",
   "execution_count": 2,
   "metadata": {},
   "outputs": [
    {
     "name": "stdout",
     "output_type": "stream",
     "text": [
      "d:\\work\\Multi-Task Cascaded Convolutional Neural Network(MTCNN)\n"
     ]
    }
   ],
   "source": [
    "import os\n",
    "print(os.getcwd())\n"
   ]
  },
  {
   "cell_type": "code",
   "execution_count": 3,
   "metadata": {},
   "outputs": [],
   "source": [
    "detection=MTCNN()"
   ]
  },
  {
   "cell_type": "code",
   "execution_count": 4,
   "metadata": {},
   "outputs": [],
   "source": [
    "#loading  the facical regoniation model \n"
   ]
  },
  {
   "cell_type": "code",
   "execution_count": 5,
   "metadata": {},
   "outputs": [],
   "source": [
    "image=cv2.imread('bond.jpg')"
   ]
  },
  {
   "cell_type": "code",
   "execution_count": 6,
   "metadata": {},
   "outputs": [
    {
     "name": "stdout",
     "output_type": "stream",
     "text": [
      "1/1 [==============================] - 0s 366ms/step\n",
      "1/1 [==============================] - 0s 180ms/step\n",
      "1/1 [==============================] - 0s 64ms/step\n",
      "1/1 [==============================] - 0s 72ms/step\n",
      "1/1 [==============================] - 0s 53ms/step\n",
      "1/1 [==============================] - 0s 58ms/step\n",
      "1/1 [==============================] - 0s 59ms/step\n",
      "1/1 [==============================] - 0s 52ms/step\n",
      "1/1 [==============================] - 0s 74ms/step\n",
      "1/1 [==============================] - 0s 68ms/step\n",
      "10/10 [==============================] - 0s 9ms/step\n",
      "3/3 [==============================] - 0s 20ms/step\n"
     ]
    }
   ],
   "source": [
    "output=detection.detect_faces(image)"
   ]
  },
  {
   "cell_type": "code",
   "execution_count": 7,
   "metadata": {},
   "outputs": [],
   "source": [
    "# # Load the facial expression recognition model\n",
    "# model = cv2.dnn.readNetFromCaffe('deploy.prototxt', 'emotion_net.caffemodel')\n",
    "\n",
    "# # Define the emotions recognized by the model\n",
    "# EMOTIONS = [\"Angry\", \"Disgust\", \"Fear\", \"Happy\", \"Neutral\", \"Sad\", \"Surprise\"]"
   ]
  },
  {
   "cell_type": "code",
   "execution_count": 8,
   "metadata": {},
   "outputs": [],
   "source": [
    "#detection face and creating bounding box\n",
    "for i in  output:    \n",
    "    x,y,w,h=i['box']\n",
    "    cv2.rectangle(image,pt1=(x,y),pt2=(x+w,y+h),color=(0,255,0),thickness=2)\n",
    "\n",
    "\n",
    "\n",
    "        \n",
    "    #plotting keypoints on face\n",
    "    #eyes\n",
    "    xleft_eye,yleft_eye=i['keypoints']['left_eye']\n",
    "    xright_eye,yleft_eye=i['keypoints']['right_eye']\n",
    "\n",
    "    #nose\n",
    "    xnose,ynose=i['keypoints']['nose']\n",
    "\n",
    "    #mouth\n",
    "    xmouth_left,ymouth_left=i['keypoints']['mouth_left']\n",
    "    xmouth_right,ymouth_right=i['keypoints']['mouth_right']\n",
    "\n",
    "    #plotting keypoints on face \n",
    "    #circle around eyes\n",
    "    cv2.circle(image,center=(xleft_eye,yleft_eye),radius=1,color=(0,255,0),thickness=2)\n",
    "    cv2.circle(image,center=(xright_eye,yleft_eye),radius=1,color=(0,255,0),thickness=2)\n",
    "\n",
    "    #circle around nose\n",
    "    cv2.circle(image,center=(xnose,ynose),radius=1,color=(0,255,0),thickness=2) \n",
    "\n",
    "    #circle around mouth\n",
    "    cv2.circle(image,center=(xmouth_right,ymouth_right),radius=1,color=(0,255,0),thickness=2)\n",
    "    cv2.circle(image,center=(xmouth_left,ymouth_left),radius=1,color=(0,255,0),thickness=2)\n",
    "\n",
    "\n"
   ]
  },
  {
   "cell_type": "code",
   "execution_count": null,
   "metadata": {},
   "outputs": [],
   "source": []
  },
  {
   "cell_type": "code",
   "execution_count": 9,
   "metadata": {},
   "outputs": [
    {
     "name": "stdout",
     "output_type": "stream",
     "text": [
      "[{'box': [30, 262, 55, 68], 'confidence': 0.9999763369560242, 'keypoints': {'left_eye': (43, 287), 'right_eye': (69, 287), 'nose': (53, 300), 'mouth_left': (44, 316), 'mouth_right': (65, 316)}}, {'box': [265, 512, 53, 64], 'confidence': 0.9998712539672852, 'keypoints': {'left_eye': (274, 535), 'right_eye': (297, 535), 'nose': (281, 550), 'mouth_left': (276, 563), 'mouth_right': (295, 563)}}, {'box': [277, 387, 54, 71], 'confidence': 0.999774694442749, 'keypoints': {'left_eye': (297, 414), 'right_eye': (321, 413), 'nose': (314, 429), 'mouth_left': (299, 442), 'mouth_right': (321, 440)}}, {'box': [514, 505, 50, 66], 'confidence': 0.9997414350509644, 'keypoints': {'left_eye': (528, 529), 'right_eye': (552, 531), 'nose': (538, 543), 'mouth_left': (528, 555), 'mouth_right': (548, 557)}}, {'box': [403, 268, 61, 75], 'confidence': 0.9994269609451294, 'keypoints': {'left_eye': (426, 299), 'right_eye': (453, 294), 'nose': (446, 308), 'mouth_left': (434, 328), 'mouth_right': (457, 324)}}, {'box': [387, 151, 56, 70], 'confidence': 0.9991345405578613, 'keypoints': {'left_eye': (400, 182), 'right_eye': (425, 177), 'nose': (412, 197), 'mouth_left': (405, 206), 'mouth_right': (430, 202)}}, {'box': [508, 25, 53, 69], 'confidence': 0.9991111755371094, 'keypoints': {'left_eye': (520, 49), 'right_eye': (545, 51), 'nose': (527, 63), 'mouth_left': (518, 76), 'mouth_right': (539, 78)}}, {'box': [630, 132, 58, 73], 'confidence': 0.9989917278289795, 'keypoints': {'left_eye': (641, 160), 'right_eye': (667, 161), 'nose': (649, 170), 'mouth_left': (640, 189), 'mouth_right': (663, 190)}}, {'box': [153, 270, 51, 66], 'confidence': 0.9983299374580383, 'keypoints': {'left_eye': (164, 294), 'right_eye': (188, 293), 'nose': (172, 309), 'mouth_left': (166, 321), 'mouth_right': (186, 322)}}, {'box': [509, 153, 58, 74], 'confidence': 0.9978958964347839, 'keypoints': {'left_eye': (525, 180), 'right_eye': (553, 181), 'nose': (537, 197), 'mouth_left': (526, 209), 'mouth_right': (549, 210)}}, {'box': [629, 277, 46, 59], 'confidence': 0.9972223043441772, 'keypoints': {'left_eye': (640, 296), 'right_eye': (662, 298), 'nose': (648, 311), 'mouth_left': (641, 322), 'mouth_right': (659, 324)}}, {'box': [636, 385, 45, 61], 'confidence': 0.9966020584106445, 'keypoints': {'left_eye': (651, 409), 'right_eye': (673, 413), 'nose': (661, 427), 'mouth_left': (648, 432), 'mouth_right': (666, 437)}}, {'box': [151, 25, 59, 80], 'confidence': 0.9953334331512451, 'keypoints': {'left_eye': (167, 58), 'right_eye': (196, 60), 'nose': (179, 78), 'mouth_left': (167, 89), 'mouth_right': (191, 90)}}, {'box': [399, 510, 48, 61], 'confidence': 0.9952442049980164, 'keypoints': {'left_eye': (420, 531), 'right_eye': (440, 539), 'nose': (430, 546), 'mouth_left': (415, 555), 'mouth_right': (432, 562)}}, {'box': [273, 152, 47, 57], 'confidence': 0.9951109290122986, 'keypoints': {'left_eye': (285, 172), 'right_eye': (306, 168), 'nose': (295, 183), 'mouth_left': (290, 196), 'mouth_right': (309, 192)}}, {'box': [269, 29, 49, 68], 'confidence': 0.9948112368583679, 'keypoints': {'left_eye': (272, 58), 'right_eye': (291, 55), 'nose': (275, 71), 'mouth_left': (277, 85), 'mouth_right': (293, 83)}}, {'box': [42, 148, 41, 53], 'confidence': 0.9943144917488098, 'keypoints': {'left_eye': (57, 167), 'right_eye': (76, 170), 'nose': (68, 181), 'mouth_left': (57, 190), 'mouth_right': (72, 192)}}, {'box': [398, 38, 50, 62], 'confidence': 0.9940711259841919, 'keypoints': {'left_eye': (412, 61), 'right_eye': (437, 60), 'nose': (426, 78), 'mouth_left': (416, 87), 'mouth_right': (435, 86)}}, {'box': [30, 28, 48, 64], 'confidence': 0.9933101534843445, 'keypoints': {'left_eye': (45, 53), 'right_eye': (68, 51), 'nose': (59, 68), 'mouth_left': (48, 78), 'mouth_right': (69, 76)}}, {'box': [149, 153, 52, 66], 'confidence': 0.9932389855384827, 'keypoints': {'left_eye': (156, 180), 'right_eye': (179, 177), 'nose': (160, 190), 'mouth_left': (158, 206), 'mouth_right': (177, 205)}}, {'box': [507, 383, 52, 70], 'confidence': 0.9932199120521545, 'keypoints': {'left_eye': (515, 408), 'right_eye': (537, 412), 'nose': (516, 424), 'mouth_left': (512, 438), 'mouth_right': (530, 442)}}, {'box': [513, 260, 48, 63], 'confidence': 0.9922650456428528, 'keypoints': {'left_eye': (530, 283), 'right_eye': (552, 285), 'nose': (541, 297), 'mouth_left': (530, 308), 'mouth_right': (548, 310)}}, {'box': [145, 390, 54, 70], 'confidence': 0.9915505647659302, 'keypoints': {'left_eye': (154, 415), 'right_eye': (178, 416), 'nose': (158, 428), 'mouth_left': (153, 443), 'mouth_right': (172, 445)}}, {'box': [37, 497, 53, 71], 'confidence': 0.9860996603965759, 'keypoints': {'left_eye': (53, 528), 'right_eye': (76, 521), 'nose': (70, 540), 'mouth_left': (62, 554), 'mouth_right': (81, 548)}}]\n"
     ]
    }
   ],
   "source": [
    "print(output)"
   ]
  },
  {
   "cell_type": "code",
   "execution_count": 10,
   "metadata": {},
   "outputs": [],
   "source": [
    "cv2.imshow('window',image)"
   ]
  },
  {
   "cell_type": "code",
   "execution_count": 11,
   "metadata": {},
   "outputs": [
    {
     "data": {
      "text/plain": [
       "120"
      ]
     },
     "execution_count": 11,
     "metadata": {},
     "output_type": "execute_result"
    },
    {
     "ename": "",
     "evalue": "",
     "output_type": "error",
     "traceback": [
      "\u001b[1;31mThe Kernel crashed while executing code in the the current cell or a previous cell. Please review the code in the cell(s) to identify a possible cause of the failure. Click <a href='https://aka.ms/vscodeJupyterKernelCrash'>here</a> for more info. View Jupyter <a href='command:jupyter.viewOutput'>log</a> for further details."
     ]
    }
   ],
   "source": [
    "cv2.waitKey(0)"
   ]
  }
 ],
 "metadata": {
  "kernelspec": {
   "display_name": "py310",
   "language": "python",
   "name": "python3"
  },
  "language_info": {
   "codemirror_mode": {
    "name": "ipython",
    "version": 3
   },
   "file_extension": ".py",
   "mimetype": "text/x-python",
   "name": "python",
   "nbconvert_exporter": "python",
   "pygments_lexer": "ipython3",
   "version": "3.10.11"
  },
  "orig_nbformat": 4
 },
 "nbformat": 4,
 "nbformat_minor": 2
}
