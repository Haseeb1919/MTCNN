{
 "cells": [
  {
   "cell_type": "code",
   "execution_count": 1,
   "metadata": {},
   "outputs": [],
   "source": [
    "#detecying a single face in an image\n",
    "#detecting facial landmarks in an image\n",
    "#detecting multiple faces in an image\n",
    "#detecting faces in a video "
   ]
  },
  {
   "cell_type": "code",
   "execution_count": 2,
   "metadata": {},
   "outputs": [],
   "source": [
    "#mporting libraries\n",
    "from mtcnn import MTCNN\n",
    "import cv2 as cv"
   ]
  },
  {
   "cell_type": "code",
   "execution_count": 3,
   "metadata": {},
   "outputs": [],
   "source": [
    "detector = MTCNN()"
   ]
  },
  {
   "cell_type": "code",
   "execution_count": 4,
   "metadata": {},
   "outputs": [],
   "source": [
    "#loading image\n",
    "image=cv.imread('vk.jpg')"
   ]
  },
  {
   "cell_type": "code",
   "execution_count": 5,
   "metadata": {},
   "outputs": [
    {
     "name": "stdout",
     "output_type": "stream",
     "text": [
      "1/1 [==============================] - 0s 398ms/step\n",
      "1/1 [==============================] - 0s 215ms/step\n",
      "1/1 [==============================] - 0s 43ms/step\n",
      "1/1 [==============================] - 0s 46ms/step\n",
      "1/1 [==============================] - 0s 39ms/step\n",
      "1/1 [==============================] - 0s 40ms/step\n",
      "1/1 [==============================] - 0s 41ms/step\n",
      "1/1 [==============================] - 0s 40ms/step\n",
      "1/1 [==============================] - 0s 42ms/step\n",
      "3/3 [==============================] - 0s 7ms/step\n",
      "1/1 [==============================] - 0s 269ms/step\n"
     ]
    }
   ],
   "source": [
    "#detecting faces in the image\n",
    "output=detector.detect_faces(image)"
   ]
  },
  {
   "cell_type": "code",
   "execution_count": 6,
   "metadata": {},
   "outputs": [
    {
     "name": "stdout",
     "output_type": "stream",
     "text": [
      "[{'box': [185, 49, 82, 100], 'confidence': 0.9998676776885986, 'keypoints': {'left_eye': (211, 82), 'right_eye': (250, 85), 'nose': (232, 101), 'mouth_left': (212, 124), 'mouth_right': (245, 126)}}]\n"
     ]
    }
   ],
   "source": [
    "print(output)"
   ]
  },
  {
   "cell_type": "code",
   "execution_count": 7,
   "metadata": {},
   "outputs": [
    {
     "data": {
      "text/plain": [
       "array([[[157, 144, 130],\n",
       "        [153, 140, 126],\n",
       "        [153, 140, 126],\n",
       "        ...,\n",
       "        [146,  78,  73],\n",
       "        [146,  78,  73],\n",
       "        [146,  78,  73]],\n",
       "\n",
       "       [[153, 140, 126],\n",
       "        [149, 136, 122],\n",
       "        [150, 137, 123],\n",
       "        ...,\n",
       "        [148,  78,  71],\n",
       "        [148,  78,  71],\n",
       "        [148,  78,  71]],\n",
       "\n",
       "       [[151, 138, 124],\n",
       "        [149, 136, 122],\n",
       "        [150, 137, 123],\n",
       "        ...,\n",
       "        [151,  79,  71],\n",
       "        [151,  79,  71],\n",
       "        [151,  79,  71]],\n",
       "\n",
       "       ...,\n",
       "\n",
       "       [[ 91, 124,  13],\n",
       "        [ 91, 124,  13],\n",
       "        [ 92, 126,  12],\n",
       "        ...,\n",
       "        [ 55,  67,  15],\n",
       "        [ 55,  67,  15],\n",
       "        [ 54,  66,  14]],\n",
       "\n",
       "       [[ 91, 124,  13],\n",
       "        [ 91, 124,  13],\n",
       "        [ 91, 125,  11],\n",
       "        ...,\n",
       "        [ 45,  56,   6],\n",
       "        [ 45,  56,   6],\n",
       "        [ 44,  55,   5]],\n",
       "\n",
       "       [[ 93, 126,  15],\n",
       "        [ 92, 125,  14],\n",
       "        [ 92, 126,  12],\n",
       "        ...,\n",
       "        [ 47,  58,   8],\n",
       "        [ 47,  58,   8],\n",
       "        [ 46,  57,   7]]], dtype=uint8)"
      ]
     },
     "execution_count": 7,
     "metadata": {},
     "output_type": "execute_result"
    }
   ],
   "source": [
    "#plotting the box around the face\n",
    "x,y,w,h = output[0]['box']\n",
    "cv.rectangle(image,pt1=(x,y),pt2=(x+w,y+h),color=(0,255,0),thickness=2)"
   ]
  },
  {
   "cell_type": "code",
   "execution_count": 8,
   "metadata": {},
   "outputs": [],
   "source": [
    "#plotting the facial landmarks\n",
    "\n",
    "#lefteye detection\n",
    "xleft_eye,yleft_eye=output[0]['keypoints']['left_eye']\n",
    "#right eye detection\n",
    "xright_eye,yright_eye=output[0]['keypoints']['right_eye']\n",
    "\n",
    "#nose detection\n",
    "xnose,ynose=output[0]['keypoints']['nose']\n",
    "\n",
    "#mouth_left detection\n",
    "xmouth_left,ymouth_left=output[0]['keypoints']['mouth_left']\n",
    "#mouth_right detection\n",
    "xmouth_right,tmouth_right=output[00]['keypoints']['mouth_right']\n",
    "\n"
   ]
  },
  {
   "cell_type": "code",
   "execution_count": 9,
   "metadata": {},
   "outputs": [
    {
     "data": {
      "text/plain": [
       "array([[[157, 144, 130],\n",
       "        [153, 140, 126],\n",
       "        [153, 140, 126],\n",
       "        ...,\n",
       "        [146,  78,  73],\n",
       "        [146,  78,  73],\n",
       "        [146,  78,  73]],\n",
       "\n",
       "       [[153, 140, 126],\n",
       "        [149, 136, 122],\n",
       "        [150, 137, 123],\n",
       "        ...,\n",
       "        [148,  78,  71],\n",
       "        [148,  78,  71],\n",
       "        [148,  78,  71]],\n",
       "\n",
       "       [[151, 138, 124],\n",
       "        [149, 136, 122],\n",
       "        [150, 137, 123],\n",
       "        ...,\n",
       "        [151,  79,  71],\n",
       "        [151,  79,  71],\n",
       "        [151,  79,  71]],\n",
       "\n",
       "       ...,\n",
       "\n",
       "       [[ 91, 124,  13],\n",
       "        [ 91, 124,  13],\n",
       "        [ 92, 126,  12],\n",
       "        ...,\n",
       "        [ 55,  67,  15],\n",
       "        [ 55,  67,  15],\n",
       "        [ 54,  66,  14]],\n",
       "\n",
       "       [[ 91, 124,  13],\n",
       "        [ 91, 124,  13],\n",
       "        [ 91, 125,  11],\n",
       "        ...,\n",
       "        [ 45,  56,   6],\n",
       "        [ 45,  56,   6],\n",
       "        [ 44,  55,   5]],\n",
       "\n",
       "       [[ 93, 126,  15],\n",
       "        [ 92, 125,  14],\n",
       "        [ 92, 126,  12],\n",
       "        ...,\n",
       "        [ 47,  58,   8],\n",
       "        [ 47,  58,   8],\n",
       "        [ 46,  57,   7]]], dtype=uint8)"
      ]
     },
     "execution_count": 9,
     "metadata": {},
     "output_type": "execute_result"
    }
   ],
   "source": [
    "#creating circle around the facial landmarks\n",
    "\n",
    "#left eye\n",
    "cv.circle(image,center=(xleft_eye,yleft_eye),radius=1,color=(0,255,0),thickness=1)\n",
    "#right eye\n",
    "cv.circle(image,center=(xright_eye,yleft_eye),radius=1,color=(0,255,0),thickness=1)\n",
    "\n",
    "#nose\n",
    "cv.circle(image,center=(xnose,ynose),radius=1,color=(0,255,0),thickness=1)\n",
    "\n",
    "#mouth_left\n",
    "cv.circle(image,center=(xmouth_left,ymouth_left),radius=1,color=(0,255,0),thickness=1)\n",
    "#mouth_right\n",
    "cv.circle(image,center=(xmouth_right,tmouth_right), radius=1,color=(0,255,0),thickness=1)"
   ]
  },
  {
   "cell_type": "code",
   "execution_count": 10,
   "metadata": {},
   "outputs": [],
   "source": [
    "#show the image in the window\n",
    "cv.imshow('window',image)"
   ]
  },
  {
   "cell_type": "code",
   "execution_count": 11,
   "metadata": {},
   "outputs": [
    {
     "data": {
      "text/plain": [
       "-1"
      ]
     },
     "execution_count": 11,
     "metadata": {},
     "output_type": "execute_result"
    }
   ],
   "source": [
    "#wait for the key to close the window\n",
    "cv.waitKey(0)"
   ]
  }
 ],
 "metadata": {
  "kernelspec": {
   "display_name": "py310",
   "language": "python",
   "name": "python3"
  },
  "language_info": {
   "codemirror_mode": {
    "name": "ipython",
    "version": 3
   },
   "file_extension": ".py",
   "mimetype": "text/x-python",
   "name": "python",
   "nbconvert_exporter": "python",
   "pygments_lexer": "ipython3",
   "version": "3.11.3"
  },
  "orig_nbformat": 4
 },
 "nbformat": 4,
 "nbformat_minor": 2
}
